{
 "cells": [
  {
   "cell_type": "code",
   "execution_count": 1,
   "metadata": {},
   "outputs": [],
   "source": [
    "from cryptocmd import CmcScraper\n",
    "import pandas as pd\n",
    "import coinmarketcappy as cmc\n",
    "from matplotlib import pyplot as plt\n",
    "import seaborn as sns\n",
    "import json\n",
    "import requests\n",
    "from bs4 import BeautifulSoup\n",
    "import csv\n",
    "import sys"
   ]
  },
  {
   "cell_type": "code",
   "execution_count": null,
   "metadata": {},
   "outputs": [],
   "source": [
    "Debug = True #Make it False for fetching data first time\n",
    "def CoinNames():\n",
    "    \"\"\"Gets ID's of all coins on cmc\"\"\"\n",
    "\n",
    "    names = []\n",
    "    response = requests.get(\"https://api.coinmarketcap.com/v1/ticker/?limit=0\")\n",
    "    respJSON = json.loads(response.text)\n",
    "    for i in respJSON:\n",
    "        if float(i['rank']) <=500:\n",
    "            names.append(i['id'])\n",
    "    return names\n",
    "\n",
    "def gather(startdate, enddate, names):\n",
    "    historicaldata = []\n",
    "    counter = 1\n",
    "\n",
    "    if len(names) == 0:\n",
    "        names = CoinNames()\n",
    "\n",
    "    for coin in names:\n",
    "        r  = requests.get(\"https://coinmarketcap.com/currencies/{0}/historical-data/?start={1}&end={2}\".format(coin, startdate, enddate))\n",
    "        data = r.text\n",
    "        soup = BeautifulSoup(data, \"html.parser\")\n",
    "        table = soup.find('table', attrs={ \"class\" : \"table\"})\n",
    "\n",
    "        #Add table header to list\n",
    "        if len(historicaldata) == 0:\n",
    "            headers = [header.text for header in table.find_all('th')]\n",
    "            headers.insert(0, \"Coin\")\n",
    "\n",
    "        for row in table.find_all('tr'):\n",
    "            currentrow = [val.text for val in row.find_all('td')]\n",
    "            if(len(currentrow) != 0):\n",
    "                currentrow.insert(0, coin)\n",
    "            historicaldata.append(currentrow)\n",
    "\n",
    "        print(\"Coin Counter -> \" + str(counter), end='\\r')\n",
    "        counter += 1\n",
    "    return headers, historicaldata\n",
    "\n",
    "if Debug is False:\n",
    "    data = gather('20170701', '20180701', [])\n",
    "    df = pd.DataFrame(list(data[1][1:]), columns=['Coin', 'Date', 'Open*', 'High', 'Low', 'Close', 'Volume', 'Market Cap'])  \n",
    "    df.to_csv('coindata.csv')\n",
    "\n",
    "df = pd.read_csv('coindata.csv', thousands=',')\n",
    "df.head()"
   ]
  },
  {
   "cell_type": "code",
   "execution_count": null,
   "metadata": {},
   "outputs": [],
   "source": [
    "df['Close'] = pd.to_numeric(df['Close'], errors='coerce')\n",
    "df['Market Cap'] = df['Market Cap'].str.replace(',', '')\n",
    "df['Market Cap'] = pd.to_numeric(df['Market Cap'], errors='coerce')\n",
    "df['Date'] = pd.to_datetime(df['Date'], errors='coerce')\n",
    "df.head()"
   ]
  },
  {
   "cell_type": "code",
   "execution_count": null,
   "metadata": {},
   "outputs": [],
   "source": []
  }
 ],
 "metadata": {
  "kernelspec": {
   "display_name": "Python 3",
   "language": "python",
   "name": "python3"
  },
  "language_info": {
   "codemirror_mode": {
    "name": "ipython",
    "version": 3
   },
   "file_extension": ".py",
   "mimetype": "text/x-python",
   "name": "python",
   "nbconvert_exporter": "python",
   "pygments_lexer": "ipython3",
   "version": "3.7.0"
  }
 },
 "nbformat": 4,
 "nbformat_minor": 2
}
